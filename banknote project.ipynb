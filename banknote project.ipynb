{
 "cells": [
  {
   "cell_type": "code",
   "execution_count": 1,
   "metadata": {},
   "outputs": [],
   "source": [
    "import numpy as np\n",
    "import pandas as pd\n",
    "import matplotlib.pyplot as plt"
   ]
  },
  {
   "cell_type": "code",
   "execution_count": 2,
   "metadata": {},
   "outputs": [
    {
     "name": "stdout",
     "output_type": "stream",
     "text": [
      "            V1        V2\n",
      "0     3.621600   8.66610\n",
      "1     4.545900   8.16740\n",
      "2     3.866000  -2.63830\n",
      "3     3.456600   9.52280\n",
      "4     0.329240  -4.45520\n",
      "5     4.368400   9.67180\n",
      "6     3.591200   3.01290\n",
      "7     2.092200  -6.81000\n",
      "8     3.203200   5.75880\n",
      "9     1.535600   9.17720\n",
      "10    1.224700   8.77790\n",
      "11    3.989900  -2.70660\n",
      "12    1.899300   7.66250\n",
      "13   -1.576800  10.84300\n",
      "14    3.404000   8.72610\n",
      "15    4.676500  -3.38950\n",
      "16    2.671900   3.06460\n",
      "17    0.803550   2.84730\n",
      "18    1.447900  -4.87940\n",
      "19    5.242300  11.02720\n",
      "20    5.786700   7.89020\n",
      "21    0.329200  -4.45520\n",
      "22    3.936200  10.16220\n",
      "23    0.935840   8.88550\n",
      "24    4.433800   9.88700\n",
      "25    0.705700  -5.49810\n",
      "26    1.143200  -3.74130\n",
      "27   -0.382140   8.39090\n",
      "28    6.563300   9.81870\n",
      "29    4.890600  -3.35840\n",
      "...        ...       ...\n",
      "1342 -1.747900  -5.82300\n",
      "1343 -0.959230  -6.71280\n",
      "1344  1.345100   0.23589\n",
      "1345  2.227900   4.09510\n",
      "1346  1.257200   4.87310\n",
      "1347 -5.385700   9.12140\n",
      "1348 -2.978600   2.34450\n",
      "1349 -1.585100  -2.15620\n",
      "1350 -0.218880  -2.20380\n",
      "1351  1.318300   1.90170\n",
      "1352  1.489600   3.42880\n",
      "1353  0.115920   3.22190\n",
      "1354 -3.392400   3.35640\n",
      "1355 -6.163200   8.70960\n",
      "1356 -4.078600   2.92390\n",
      "1357 -2.589900  -0.39110\n",
      "1358 -1.011600  -0.19038\n",
      "1359  0.066129   2.49140\n",
      "1360 -0.247450   1.93680\n",
      "1361 -1.573200   1.06360\n",
      "1362 -2.166800   1.59330\n",
      "1363 -1.166700  -1.42370\n",
      "1364 -2.839100  -6.63000\n",
      "1365 -4.504600  -5.81260\n",
      "1366 -2.410000   3.74330\n",
      "1367  0.406140   1.34920\n",
      "1368 -1.388700  -4.87730\n",
      "1369 -3.750300 -13.45860\n",
      "1370 -3.563700  -8.38270\n",
      "1371 -2.541900  -0.65804\n",
      "\n",
      "[1372 rows x 2 columns]\n"
     ]
    }
   ],
   "source": [
    "banknote_dataset = pd.read_csv('project_coursera.csv')\n",
    "print(banknote_dataset)"
   ]
  },
  {
   "cell_type": "code",
   "execution_count": 3,
   "metadata": {},
   "outputs": [
    {
     "data": {
      "text/html": [
       "<div>\n",
       "<style scoped>\n",
       "    .dataframe tbody tr th:only-of-type {\n",
       "        vertical-align: middle;\n",
       "    }\n",
       "\n",
       "    .dataframe tbody tr th {\n",
       "        vertical-align: top;\n",
       "    }\n",
       "\n",
       "    .dataframe thead th {\n",
       "        text-align: right;\n",
       "    }\n",
       "</style>\n",
       "<table border=\"1\" class=\"dataframe\">\n",
       "  <thead>\n",
       "    <tr style=\"text-align: right;\">\n",
       "      <th></th>\n",
       "      <th>V1</th>\n",
       "      <th>V2</th>\n",
       "    </tr>\n",
       "  </thead>\n",
       "  <tbody>\n",
       "    <tr>\n",
       "      <th>1233</th>\n",
       "      <td>-7.0421</td>\n",
       "      <td>9.20000</td>\n",
       "    </tr>\n",
       "    <tr>\n",
       "      <th>1294</th>\n",
       "      <td>-7.0364</td>\n",
       "      <td>9.29310</td>\n",
       "    </tr>\n",
       "    <tr>\n",
       "      <th>1172</th>\n",
       "      <td>-6.9599</td>\n",
       "      <td>8.99310</td>\n",
       "    </tr>\n",
       "    <tr>\n",
       "      <th>989</th>\n",
       "      <td>-6.7526</td>\n",
       "      <td>8.81720</td>\n",
       "    </tr>\n",
       "    <tr>\n",
       "      <th>1203</th>\n",
       "      <td>-6.7387</td>\n",
       "      <td>6.98790</td>\n",
       "    </tr>\n",
       "    <tr>\n",
       "      <th>1264</th>\n",
       "      <td>-6.6510</td>\n",
       "      <td>6.79340</td>\n",
       "    </tr>\n",
       "    <tr>\n",
       "      <th>1142</th>\n",
       "      <td>-6.5773</td>\n",
       "      <td>6.80170</td>\n",
       "    </tr>\n",
       "    <tr>\n",
       "      <th>1225</th>\n",
       "      <td>-6.5235</td>\n",
       "      <td>9.60140</td>\n",
       "    </tr>\n",
       "    <tr>\n",
       "      <th>867</th>\n",
       "      <td>-6.5084</td>\n",
       "      <td>8.76960</td>\n",
       "    </tr>\n",
       "    <tr>\n",
       "      <th>1286</th>\n",
       "      <td>-6.4247</td>\n",
       "      <td>9.53110</td>\n",
       "    </tr>\n",
       "    <tr>\n",
       "      <th>959</th>\n",
       "      <td>-6.3979</td>\n",
       "      <td>6.44790</td>\n",
       "    </tr>\n",
       "    <tr>\n",
       "      <th>1111</th>\n",
       "      <td>-6.3679</td>\n",
       "      <td>8.01020</td>\n",
       "    </tr>\n",
       "    <tr>\n",
       "      <th>1164</th>\n",
       "      <td>-6.3364</td>\n",
       "      <td>9.28480</td>\n",
       "    </tr>\n",
       "    <tr>\n",
       "      <th>837</th>\n",
       "      <td>-6.2815</td>\n",
       "      <td>6.66510</td>\n",
       "    </tr>\n",
       "    <tr>\n",
       "      <th>806</th>\n",
       "      <td>-6.2003</td>\n",
       "      <td>8.68060</td>\n",
       "    </tr>\n",
       "    <tr>\n",
       "      <th>1355</th>\n",
       "      <td>-6.1632</td>\n",
       "      <td>8.70960</td>\n",
       "    </tr>\n",
       "    <tr>\n",
       "      <th>928</th>\n",
       "      <td>-6.1536</td>\n",
       "      <td>7.92950</td>\n",
       "    </tr>\n",
       "    <tr>\n",
       "      <th>981</th>\n",
       "      <td>-6.0598</td>\n",
       "      <td>9.29520</td>\n",
       "    </tr>\n",
       "    <tr>\n",
       "      <th>776</th>\n",
       "      <td>-5.9034</td>\n",
       "      <td>6.56790</td>\n",
       "    </tr>\n",
       "    <tr>\n",
       "      <th>1050</th>\n",
       "      <td>-5.8818</td>\n",
       "      <td>7.65840</td>\n",
       "    </tr>\n",
       "    <tr>\n",
       "      <th>859</th>\n",
       "      <td>-5.8730</td>\n",
       "      <td>9.17520</td>\n",
       "    </tr>\n",
       "    <tr>\n",
       "      <th>1103</th>\n",
       "      <td>-5.6370</td>\n",
       "      <td>8.12610</td>\n",
       "    </tr>\n",
       "    <tr>\n",
       "      <th>1325</th>\n",
       "      <td>-5.5250</td>\n",
       "      <td>6.32580</td>\n",
       "    </tr>\n",
       "    <tr>\n",
       "      <th>798</th>\n",
       "      <td>-5.4901</td>\n",
       "      <td>9.10480</td>\n",
       "    </tr>\n",
       "    <tr>\n",
       "      <th>920</th>\n",
       "      <td>-5.4808</td>\n",
       "      <td>8.18190</td>\n",
       "    </tr>\n",
       "    <tr>\n",
       "      <th>1218</th>\n",
       "      <td>-5.4414</td>\n",
       "      <td>7.23630</td>\n",
       "    </tr>\n",
       "    <tr>\n",
       "      <th>1347</th>\n",
       "      <td>-5.3857</td>\n",
       "      <td>9.12140</td>\n",
       "    </tr>\n",
       "    <tr>\n",
       "      <th>1279</th>\n",
       "      <td>-5.3012</td>\n",
       "      <td>7.39150</td>\n",
       "    </tr>\n",
       "    <tr>\n",
       "      <th>1304</th>\n",
       "      <td>-5.2943</td>\n",
       "      <td>-5.14630</td>\n",
       "    </tr>\n",
       "    <tr>\n",
       "      <th>898</th>\n",
       "      <td>-5.2406</td>\n",
       "      <td>6.62580</td>\n",
       "    </tr>\n",
       "    <tr>\n",
       "      <th>...</th>\n",
       "      <td>...</td>\n",
       "      <td>...</td>\n",
       "    </tr>\n",
       "    <tr>\n",
       "      <th>19</th>\n",
       "      <td>5.2423</td>\n",
       "      <td>11.02720</td>\n",
       "    </tr>\n",
       "    <tr>\n",
       "      <th>51</th>\n",
       "      <td>5.2620</td>\n",
       "      <td>3.98340</td>\n",
       "    </tr>\n",
       "    <tr>\n",
       "      <th>274</th>\n",
       "      <td>5.2756</td>\n",
       "      <td>0.13863</td>\n",
       "    </tr>\n",
       "    <tr>\n",
       "      <th>253</th>\n",
       "      <td>5.2868</td>\n",
       "      <td>3.25700</td>\n",
       "    </tr>\n",
       "    <tr>\n",
       "      <th>206</th>\n",
       "      <td>5.3063</td>\n",
       "      <td>5.26840</td>\n",
       "    </tr>\n",
       "    <tr>\n",
       "      <th>664</th>\n",
       "      <td>5.3586</td>\n",
       "      <td>3.75570</td>\n",
       "    </tr>\n",
       "    <tr>\n",
       "      <th>271</th>\n",
       "      <td>5.3915</td>\n",
       "      <td>9.99460</td>\n",
       "    </tr>\n",
       "    <tr>\n",
       "      <th>64</th>\n",
       "      <td>5.4021</td>\n",
       "      <td>3.10390</td>\n",
       "    </tr>\n",
       "    <tr>\n",
       "      <th>381</th>\n",
       "      <td>5.4188</td>\n",
       "      <td>10.14570</td>\n",
       "    </tr>\n",
       "    <tr>\n",
       "      <th>136</th>\n",
       "      <td>5.4380</td>\n",
       "      <td>9.46690</td>\n",
       "    </tr>\n",
       "    <tr>\n",
       "      <th>229</th>\n",
       "      <td>5.4944</td>\n",
       "      <td>1.54780</td>\n",
       "    </tr>\n",
       "    <tr>\n",
       "      <th>572</th>\n",
       "      <td>5.5040</td>\n",
       "      <td>10.36710</td>\n",
       "    </tr>\n",
       "    <tr>\n",
       "      <th>701</th>\n",
       "      <td>5.5910</td>\n",
       "      <td>10.46430</td>\n",
       "    </tr>\n",
       "    <tr>\n",
       "      <th>597</th>\n",
       "      <td>5.6084</td>\n",
       "      <td>10.30090</td>\n",
       "    </tr>\n",
       "    <tr>\n",
       "      <th>434</th>\n",
       "      <td>5.6272</td>\n",
       "      <td>10.08570</td>\n",
       "    </tr>\n",
       "    <tr>\n",
       "      <th>451</th>\n",
       "      <td>5.6810</td>\n",
       "      <td>7.79500</td>\n",
       "    </tr>\n",
       "    <tr>\n",
       "      <th>530</th>\n",
       "      <td>5.7227</td>\n",
       "      <td>5.83120</td>\n",
       "    </tr>\n",
       "    <tr>\n",
       "      <th>316</th>\n",
       "      <td>5.7353</td>\n",
       "      <td>5.28080</td>\n",
       "    </tr>\n",
       "    <tr>\n",
       "      <th>464</th>\n",
       "      <td>5.7403</td>\n",
       "      <td>-0.44284</td>\n",
       "    </tr>\n",
       "    <tr>\n",
       "      <th>607</th>\n",
       "      <td>5.7456</td>\n",
       "      <td>10.18080</td>\n",
       "    </tr>\n",
       "    <tr>\n",
       "      <th>364</th>\n",
       "      <td>5.7823</td>\n",
       "      <td>5.57880</td>\n",
       "    </tr>\n",
       "    <tr>\n",
       "      <th>20</th>\n",
       "      <td>5.7867</td>\n",
       "      <td>7.89020</td>\n",
       "    </tr>\n",
       "    <tr>\n",
       "      <th>57</th>\n",
       "      <td>5.8070</td>\n",
       "      <td>5.00970</td>\n",
       "    </tr>\n",
       "    <tr>\n",
       "      <th>690</th>\n",
       "      <td>5.8519</td>\n",
       "      <td>5.39050</td>\n",
       "    </tr>\n",
       "    <tr>\n",
       "      <th>515</th>\n",
       "      <td>5.8782</td>\n",
       "      <td>5.94090</td>\n",
       "    </tr>\n",
       "    <tr>\n",
       "      <th>199</th>\n",
       "      <td>5.8862</td>\n",
       "      <td>5.87470</td>\n",
       "    </tr>\n",
       "    <tr>\n",
       "      <th>513</th>\n",
       "      <td>5.9374</td>\n",
       "      <td>6.16640</td>\n",
       "    </tr>\n",
       "    <tr>\n",
       "      <th>215</th>\n",
       "      <td>6.0919</td>\n",
       "      <td>2.96730</td>\n",
       "    </tr>\n",
       "    <tr>\n",
       "      <th>28</th>\n",
       "      <td>6.5633</td>\n",
       "      <td>9.81870</td>\n",
       "    </tr>\n",
       "    <tr>\n",
       "      <th>634</th>\n",
       "      <td>6.8248</td>\n",
       "      <td>5.21870</td>\n",
       "    </tr>\n",
       "  </tbody>\n",
       "</table>\n",
       "<p>1372 rows × 2 columns</p>\n",
       "</div>"
      ],
      "text/plain": [
       "          V1        V2\n",
       "1233 -7.0421   9.20000\n",
       "1294 -7.0364   9.29310\n",
       "1172 -6.9599   8.99310\n",
       "989  -6.7526   8.81720\n",
       "1203 -6.7387   6.98790\n",
       "1264 -6.6510   6.79340\n",
       "1142 -6.5773   6.80170\n",
       "1225 -6.5235   9.60140\n",
       "867  -6.5084   8.76960\n",
       "1286 -6.4247   9.53110\n",
       "959  -6.3979   6.44790\n",
       "1111 -6.3679   8.01020\n",
       "1164 -6.3364   9.28480\n",
       "837  -6.2815   6.66510\n",
       "806  -6.2003   8.68060\n",
       "1355 -6.1632   8.70960\n",
       "928  -6.1536   7.92950\n",
       "981  -6.0598   9.29520\n",
       "776  -5.9034   6.56790\n",
       "1050 -5.8818   7.65840\n",
       "859  -5.8730   9.17520\n",
       "1103 -5.6370   8.12610\n",
       "1325 -5.5250   6.32580\n",
       "798  -5.4901   9.10480\n",
       "920  -5.4808   8.18190\n",
       "1218 -5.4414   7.23630\n",
       "1347 -5.3857   9.12140\n",
       "1279 -5.3012   7.39150\n",
       "1304 -5.2943  -5.14630\n",
       "898  -5.2406   6.62580\n",
       "...      ...       ...\n",
       "19    5.2423  11.02720\n",
       "51    5.2620   3.98340\n",
       "274   5.2756   0.13863\n",
       "253   5.2868   3.25700\n",
       "206   5.3063   5.26840\n",
       "664   5.3586   3.75570\n",
       "271   5.3915   9.99460\n",
       "64    5.4021   3.10390\n",
       "381   5.4188  10.14570\n",
       "136   5.4380   9.46690\n",
       "229   5.4944   1.54780\n",
       "572   5.5040  10.36710\n",
       "701   5.5910  10.46430\n",
       "597   5.6084  10.30090\n",
       "434   5.6272  10.08570\n",
       "451   5.6810   7.79500\n",
       "530   5.7227   5.83120\n",
       "316   5.7353   5.28080\n",
       "464   5.7403  -0.44284\n",
       "607   5.7456  10.18080\n",
       "364   5.7823   5.57880\n",
       "20    5.7867   7.89020\n",
       "57    5.8070   5.00970\n",
       "690   5.8519   5.39050\n",
       "515   5.8782   5.94090\n",
       "199   5.8862   5.87470\n",
       "513   5.9374   6.16640\n",
       "215   6.0919   2.96730\n",
       "28    6.5633   9.81870\n",
       "634   6.8248   5.21870\n",
       "\n",
       "[1372 rows x 2 columns]"
      ]
     },
     "execution_count": 3,
     "metadata": {},
     "output_type": "execute_result"
    }
   ],
   "source": [
    "banknote_dataset.sort_values('V1', inplace=True)\n",
    "banknote_dataset"
   ]
  },
  {
   "cell_type": "code",
   "execution_count": 4,
   "metadata": {},
   "outputs": [
    {
     "data": {
      "text/plain": [
       "V1    0.433735\n",
       "V2    1.922353\n",
       "dtype: float64"
      ]
     },
     "execution_count": 4,
     "metadata": {},
     "output_type": "execute_result"
    }
   ],
   "source": [
    "np.mean(banknote_dataset)"
   ]
  },
  {
   "cell_type": "code",
   "execution_count": 5,
   "metadata": {},
   "outputs": [
    {
     "data": {
      "text/plain": [
       "V1     8.075409\n",
       "V2    34.420603\n",
       "dtype: float64"
      ]
     },
     "execution_count": 5,
     "metadata": {},
     "output_type": "execute_result"
    }
   ],
   "source": [
    "np.var(banknote_dataset)"
   ]
  },
  {
   "cell_type": "code",
   "execution_count": 6,
   "metadata": {},
   "outputs": [
    {
     "data": {
      "text/plain": [
       "V1    2.841726\n",
       "V2    5.866907\n",
       "dtype: float64"
      ]
     },
     "execution_count": 6,
     "metadata": {},
     "output_type": "execute_result"
    }
   ],
   "source": [
    "np.std(banknote_dataset)"
   ]
  },
  {
   "cell_type": "code",
   "execution_count": 7,
   "metadata": {},
   "outputs": [
    {
     "data": {
      "text/plain": [
       "<matplotlib.collections.PathCollection at 0x7f3a78351940>"
      ]
     },
     "execution_count": 7,
     "metadata": {},
     "output_type": "execute_result"
    },
    {
     "data": {
      "image/png": "[encoded data removed]",
      "text/plain": [
       "<Figure size 432x288 with 1 Axes>"
      ]
     },
     "metadata": {},
     "output_type": "display_data"
    }
   ],
   "source": [
    "V1=banknote_dataset['V1']\n",
    "V2=banknote_dataset['V2']\n",
    "plt.scatter(V1,V2)\n",
    "\n"
   ]
  },
  {
   "cell_type": "code",
   "execution_count": 8,
   "metadata": {},
   "outputs": [],
   "source": [
    "# This data set can be used for clustering \n",
    "#This is a big dataset that can be used for Kmeans clustering method , because it is visibly shown 3 diffrent clusters."
   ]
  },
  {
   "cell_type": "code",
   "execution_count": 9,
   "metadata": {},
   "outputs": [
    {
     "data": {
      "text/plain": [
       "array([[ 0.85713121,  6.06625141],\n",
       "       [-0.12411751, -3.53751287]])"
      ]
     },
     "execution_count": 9,
     "metadata": {},
     "output_type": "execute_result"
    }
   ],
   "source": [
    "from sklearn.cluster import KMeans\n",
    "\n",
    "dataset2= np.column_stack((V1, V2))\n",
    "\n",
    "km_res= KMeans(n_clusters=2).fit(dataset2)\n",
    "km_res.cluster_centers_"
   ]
  },
  {
   "cell_type": "code",
   "execution_count": 10,
   "metadata": {},
   "outputs": [
    {
     "data": {
      "text/plain": [
       "<matplotlib.collections.PathCollection at 0x7f3a782ba5f8>"
      ]
     },
     "execution_count": 10,
     "metadata": {},
     "output_type": "execute_result"
    },
    {
     "data": {
      "image/png": "[encoded data removed]",
      "text/plain": [
       "<Figure size 432x288 with 1 Axes>"
      ]
     },
     "metadata": {},
     "output_type": "display_data"
    }
   ],
   "source": [
    "clusters= km_res.cluster_centers_\n",
    "plt.scatter(V1, V2)\n",
    "plt.scatter(clusters[:,0],clusters[:,1])"
   ]
  },
  {
   "cell_type": "code",
   "execution_count": 11,
   "metadata": {},
   "outputs": [
    {
     "data": {
      "text/plain": [
       "array([[ 0.86960048,  6.12717909],\n",
       "       [-0.12376677, -3.45591265]])"
      ]
     },
     "execution_count": 11,
     "metadata": {},
     "output_type": "execute_result"
    }
   ],
   "source": [
    "from sklearn.cluster import KMeans\n",
    "\n",
    "dataset2= np.column_stack((V1, V2))\n",
    "\n",
    "km_res= KMeans(n_clusters=2).fit(dataset2)\n",
    "km_res.cluster_centers_"
   ]
  },
  {
   "cell_type": "code",
   "execution_count": 14,
   "metadata": {},
   "outputs": [
    {
     "data": {
      "image/png": "[encoded data removed]",
      "text/plain": [
       "<Figure size 432x288 with 1 Axes>"
      ]
     },
     "metadata": {},
     "output_type": "display_data"
    }
   ],
   "source": [
    "clusters= km_res.cluster_centers_\n",
    "plt.scatter(V1, V2)\n",
    "plt.scatter(clusters[:,0],clusters[:,1])\n",
    "plt.savefig('fig2')"
   ]
  },
  {
   "cell_type": "code",
   "execution_count": 13,
   "metadata": {},
   "outputs": [
    {
     "data": {
      "text/plain": [
       "<Figure size 432x288 with 0 Axes>"
      ]
     },
     "metadata": {},
     "output_type": "display_data"
    }
   ],
   "source": [
    "plt.savefig('fig1')"
   ]
  }
 ],
 "metadata": {
  "kernelspec": {
   "display_name": "Python 3",
   "language": "python",
   "name": "python3"
  },
  "language_info": {
   "codemirror_mode": {
    "name": "ipython",
    "version": 3
   },
   "file_extension": ".py",
   "mimetype": "text/x-python",
   "name": "python",
   "nbconvert_exporter": "python",
   "pygments_lexer": "ipython3",
   "version": "3.6.3"
  }
 },
 "nbformat": 4,
 "nbformat_minor": 2
}
